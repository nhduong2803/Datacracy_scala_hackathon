{
 "cells": [
  {
   "cell_type": "code",
   "execution_count": 1,
   "metadata": {},
   "outputs": [],
   "source": [
    "import pandas as pd\n",
    "import numpy as np\n",
    "import matplotlib.pyplot as plt\n",
    "import seaborn as sns\n",
    "import warnings\n",
    "warnings.filterwarnings('ignore')"
   ]
  },
  {
   "cell_type": "markdown",
   "metadata": {},
   "source": [
    "# Data import"
   ]
  },
  {
   "cell_type": "code",
   "execution_count": 2,
   "metadata": {},
   "outputs": [
    {
     "data": {
      "text/html": [
       "<div>\n",
       "<style scoped>\n",
       "    .dataframe tbody tr th:only-of-type {\n",
       "        vertical-align: middle;\n",
       "    }\n",
       "\n",
       "    .dataframe tbody tr th {\n",
       "        vertical-align: top;\n",
       "    }\n",
       "\n",
       "    .dataframe thead th {\n",
       "        text-align: right;\n",
       "    }\n",
       "</style>\n",
       "<table border=\"1\" class=\"dataframe\">\n",
       "  <thead>\n",
       "    <tr style=\"text-align: right;\">\n",
       "      <th></th>\n",
       "      <th>UserID (PK)</th>\n",
       "      <th>VIP hay Free</th>\n",
       "      <th>Gender</th>\n",
       "      <th>Year of Birth</th>\n",
       "      <th>Age Range</th>\n",
       "      <th>Age</th>\n",
       "      <th>Region</th>\n",
       "      <th>Operation Systems</th>\n",
       "      <th>Registration Date</th>\n",
       "      <th>Total Listerning</th>\n",
       "      <th>Total Listening Time (Min)</th>\n",
       "    </tr>\n",
       "  </thead>\n",
       "  <tbody>\n",
       "    <tr>\n",
       "      <th>0</th>\n",
       "      <td>86229</td>\n",
       "      <td>free</td>\n",
       "      <td>male</td>\n",
       "      <td>NaN</td>\n",
       "      <td>No information</td>\n",
       "      <td>NaN</td>\n",
       "      <td>VN</td>\n",
       "      <td>android</td>\n",
       "      <td>2020-11-27</td>\n",
       "      <td>218</td>\n",
       "      <td>4151.3</td>\n",
       "    </tr>\n",
       "    <tr>\n",
       "      <th>1</th>\n",
       "      <td>48053</td>\n",
       "      <td>free</td>\n",
       "      <td>male</td>\n",
       "      <td>1995.0</td>\n",
       "      <td>25 - 34</td>\n",
       "      <td>26.0</td>\n",
       "      <td>VN</td>\n",
       "      <td>ios</td>\n",
       "      <td>2020-08-24</td>\n",
       "      <td>19</td>\n",
       "      <td>278.6</td>\n",
       "    </tr>\n",
       "    <tr>\n",
       "      <th>2</th>\n",
       "      <td>46340</td>\n",
       "      <td>free</td>\n",
       "      <td>male</td>\n",
       "      <td>1988.0</td>\n",
       "      <td>25 - 34</td>\n",
       "      <td>33.0</td>\n",
       "      <td>VN</td>\n",
       "      <td>website</td>\n",
       "      <td>2020-08-19</td>\n",
       "      <td>28</td>\n",
       "      <td>170.5</td>\n",
       "    </tr>\n",
       "    <tr>\n",
       "      <th>3</th>\n",
       "      <td>66659</td>\n",
       "      <td>free</td>\n",
       "      <td>male</td>\n",
       "      <td>1992.0</td>\n",
       "      <td>25 - 34</td>\n",
       "      <td>29.0</td>\n",
       "      <td>VN</td>\n",
       "      <td>website</td>\n",
       "      <td>2020-10-22</td>\n",
       "      <td>345</td>\n",
       "      <td>6721.4</td>\n",
       "    </tr>\n",
       "    <tr>\n",
       "      <th>4</th>\n",
       "      <td>59396</td>\n",
       "      <td>free</td>\n",
       "      <td>male</td>\n",
       "      <td>NaN</td>\n",
       "      <td>No information</td>\n",
       "      <td>NaN</td>\n",
       "      <td>VN</td>\n",
       "      <td>android</td>\n",
       "      <td>2020-09-29</td>\n",
       "      <td>23</td>\n",
       "      <td>52.5</td>\n",
       "    </tr>\n",
       "  </tbody>\n",
       "</table>\n",
       "</div>"
      ],
      "text/plain": [
       "   UserID (PK) VIP hay Free Gender  Year of Birth       Age Range   Age  \\\n",
       "0        86229         free   male            NaN  No information   NaN   \n",
       "1        48053         free   male         1995.0         25 - 34  26.0   \n",
       "2        46340         free   male         1988.0         25 - 34  33.0   \n",
       "3        66659         free   male         1992.0         25 - 34  29.0   \n",
       "4        59396         free   male            NaN  No information   NaN   \n",
       "\n",
       "  Region Operation Systems Registration Date  Total Listerning  \\\n",
       "0     VN           android        2020-11-27               218   \n",
       "1     VN               ios        2020-08-24                19   \n",
       "2     VN           website        2020-08-19                28   \n",
       "3     VN           website        2020-10-22               345   \n",
       "4     VN           android        2020-09-29                23   \n",
       "\n",
       "   Total Listening Time (Min)  \n",
       "0                      4151.3  \n",
       "1                       278.6  \n",
       "2                       170.5  \n",
       "3                      6721.4  \n",
       "4                        52.5  "
      ]
     },
     "execution_count": 2,
     "metadata": {},
     "output_type": "execute_result"
    }
   ],
   "source": [
    "user = pd.read_csv(r'/home/quannt/DATAcracy/Scala/user_processed.csv')\n",
    "user.head()"
   ]
  },
  {
   "cell_type": "code",
   "execution_count": 3,
   "metadata": {},
   "outputs": [
    {
     "data": {
      "text/html": [
       "<div>\n",
       "<style scoped>\n",
       "    .dataframe tbody tr th:only-of-type {\n",
       "        vertical-align: middle;\n",
       "    }\n",
       "\n",
       "    .dataframe tbody tr th {\n",
       "        vertical-align: top;\n",
       "    }\n",
       "\n",
       "    .dataframe thead th {\n",
       "        text-align: right;\n",
       "    }\n",
       "</style>\n",
       "<table border=\"1\" class=\"dataframe\">\n",
       "  <thead>\n",
       "    <tr style=\"text-align: right;\">\n",
       "      <th></th>\n",
       "      <th>OrderID (PK)</th>\n",
       "      <th>Transaction Date</th>\n",
       "      <th>UserID (FK)</th>\n",
       "      <th>Bill Type</th>\n",
       "      <th>Total Amount</th>\n",
       "    </tr>\n",
       "  </thead>\n",
       "  <tbody>\n",
       "    <tr>\n",
       "      <th>0</th>\n",
       "      <td>6706</td>\n",
       "      <td>2020-08-16</td>\n",
       "      <td>44822</td>\n",
       "      <td>VIP</td>\n",
       "      <td>199000</td>\n",
       "    </tr>\n",
       "    <tr>\n",
       "      <th>1</th>\n",
       "      <td>6998</td>\n",
       "      <td>2020-08-23</td>\n",
       "      <td>47128</td>\n",
       "      <td>VIP</td>\n",
       "      <td>199000</td>\n",
       "    </tr>\n",
       "    <tr>\n",
       "      <th>2</th>\n",
       "      <td>6927</td>\n",
       "      <td>2020-08-21</td>\n",
       "      <td>47134</td>\n",
       "      <td>VIP</td>\n",
       "      <td>199000</td>\n",
       "    </tr>\n",
       "    <tr>\n",
       "      <th>3</th>\n",
       "      <td>7054</td>\n",
       "      <td>2020-08-25</td>\n",
       "      <td>45972</td>\n",
       "      <td>VIP</td>\n",
       "      <td>199000</td>\n",
       "    </tr>\n",
       "    <tr>\n",
       "      <th>4</th>\n",
       "      <td>6929</td>\n",
       "      <td>2020-08-21</td>\n",
       "      <td>43556</td>\n",
       "      <td>VIP</td>\n",
       "      <td>199000</td>\n",
       "    </tr>\n",
       "  </tbody>\n",
       "</table>\n",
       "</div>"
      ],
      "text/plain": [
       "   OrderID (PK) Transaction Date  UserID (FK) Bill Type  Total Amount\n",
       "0          6706       2020-08-16        44822       VIP        199000\n",
       "1          6998       2020-08-23        47128       VIP        199000\n",
       "2          6927       2020-08-21        47134       VIP        199000\n",
       "3          7054       2020-08-25        45972       VIP        199000\n",
       "4          6929       2020-08-21        43556       VIP        199000"
      ]
     },
     "execution_count": 3,
     "metadata": {},
     "output_type": "execute_result"
    }
   ],
   "source": [
    "order = pd.read_csv(r'/home/quannt/DATAcracy/Scala/order_processed.csv')\n",
    "order.head()"
   ]
  },
  {
   "cell_type": "code",
   "execution_count": 4,
   "metadata": {},
   "outputs": [
    {
     "data": {
      "text/html": [
       "<div>\n",
       "<style scoped>\n",
       "    .dataframe tbody tr th:only-of-type {\n",
       "        vertical-align: middle;\n",
       "    }\n",
       "\n",
       "    .dataframe tbody tr th {\n",
       "        vertical-align: top;\n",
       "    }\n",
       "\n",
       "    .dataframe thead th {\n",
       "        text-align: right;\n",
       "    }\n",
       "</style>\n",
       "<table border=\"1\" class=\"dataframe\">\n",
       "  <thead>\n",
       "    <tr style=\"text-align: right;\">\n",
       "      <th></th>\n",
       "      <th>PlaylistID (PK)</th>\n",
       "      <th>Playlist Name</th>\n",
       "      <th>Category</th>\n",
       "      <th>Sub Category</th>\n",
       "      <th>Playlist Type</th>\n",
       "      <th>Playlist Duration (min)</th>\n",
       "      <th>Actual Duration (min)</th>\n",
       "      <th>UserID (FK)</th>\n",
       "      <th>Listening Time</th>\n",
       "      <th>Listening Date</th>\n",
       "      <th>Listening Datetime</th>\n",
       "      <th>Unnamed: 11</th>\n",
       "    </tr>\n",
       "  </thead>\n",
       "  <tbody>\n",
       "    <tr>\n",
       "      <th>0</th>\n",
       "      <td>4529</td>\n",
       "      <td>Dạy Tiếng Anh Cho Trẻ Mầm Non</td>\n",
       "      <td>Podcast</td>\n",
       "      <td>Học ngoại ngữ</td>\n",
       "      <td>free</td>\n",
       "      <td>44.9</td>\n",
       "      <td>0.1</td>\n",
       "      <td>82846</td>\n",
       "      <td>06:05:00</td>\n",
       "      <td>03-12-2020</td>\n",
       "      <td>2020-12-03 06:05:00</td>\n",
       "      <td>NaN</td>\n",
       "    </tr>\n",
       "    <tr>\n",
       "      <th>1</th>\n",
       "      <td>4577</td>\n",
       "      <td>Tư Duy Tích Cực - Bạn Là Những Gì Bạn Nghĩ (Nh...</td>\n",
       "      <td>Sách nói</td>\n",
       "      <td>Hạnh phúc</td>\n",
       "      <td>vip</td>\n",
       "      <td>79.8</td>\n",
       "      <td>15.9</td>\n",
       "      <td>56112</td>\n",
       "      <td>12:49:00</td>\n",
       "      <td>30-10-2020</td>\n",
       "      <td>2020-10-30 12:49:00</td>\n",
       "      <td>NaN</td>\n",
       "    </tr>\n",
       "    <tr>\n",
       "      <th>2</th>\n",
       "      <td>4169</td>\n",
       "      <td>50 thiên thần của bạn: Giải phóng bản thân khỏ...</td>\n",
       "      <td>Sách nói</td>\n",
       "      <td>Tâm linh</td>\n",
       "      <td>vip</td>\n",
       "      <td>324.8</td>\n",
       "      <td>6.8</td>\n",
       "      <td>94362</td>\n",
       "      <td>00:17:00</td>\n",
       "      <td>15-12-2020</td>\n",
       "      <td>2020-12-15 00:17:00</td>\n",
       "      <td>NaN</td>\n",
       "    </tr>\n",
       "    <tr>\n",
       "      <th>3</th>\n",
       "      <td>4581</td>\n",
       "      <td>[Sách Tóm Tắt] Đọc Vị Bất Kỳ Ai</td>\n",
       "      <td>Sách tóm tắt</td>\n",
       "      <td>Sách tóm tắt</td>\n",
       "      <td>free</td>\n",
       "      <td>24.8</td>\n",
       "      <td>2.1</td>\n",
       "      <td>85469</td>\n",
       "      <td>23:09:00</td>\n",
       "      <td>29-11-2020</td>\n",
       "      <td>2020-11-29 23:09:00</td>\n",
       "      <td>NaN</td>\n",
       "    </tr>\n",
       "    <tr>\n",
       "      <th>4</th>\n",
       "      <td>4577</td>\n",
       "      <td>Tư Duy Tích Cực - Bạn Là Những Gì Bạn Nghĩ (Nh...</td>\n",
       "      <td>Sách nói</td>\n",
       "      <td>Hạnh phúc</td>\n",
       "      <td>vip</td>\n",
       "      <td>79.8</td>\n",
       "      <td>19.0</td>\n",
       "      <td>70171</td>\n",
       "      <td>21:09:00</td>\n",
       "      <td>06-12-2020</td>\n",
       "      <td>2020-12-06 21:09:00</td>\n",
       "      <td>NaN</td>\n",
       "    </tr>\n",
       "  </tbody>\n",
       "</table>\n",
       "</div>"
      ],
      "text/plain": [
       "   PlaylistID (PK)                                      Playlist Name  \\\n",
       "0             4529                      Dạy Tiếng Anh Cho Trẻ Mầm Non   \n",
       "1             4577  Tư Duy Tích Cực - Bạn Là Những Gì Bạn Nghĩ (Nh...   \n",
       "2             4169  50 thiên thần của bạn: Giải phóng bản thân khỏ...   \n",
       "3             4581                    [Sách Tóm Tắt] Đọc Vị Bất Kỳ Ai   \n",
       "4             4577  Tư Duy Tích Cực - Bạn Là Những Gì Bạn Nghĩ (Nh...   \n",
       "\n",
       "       Category   Sub Category Playlist Type  Playlist Duration (min)  \\\n",
       "0       Podcast  Học ngoại ngữ          free                     44.9   \n",
       "1      Sách nói      Hạnh phúc           vip                     79.8   \n",
       "2      Sách nói       Tâm linh           vip                    324.8   \n",
       "3  Sách tóm tắt   Sách tóm tắt          free                     24.8   \n",
       "4      Sách nói      Hạnh phúc           vip                     79.8   \n",
       "\n",
       "   Actual Duration (min)  UserID (FK) Listening Time Listening Date  \\\n",
       "0                    0.1        82846       06:05:00     03-12-2020   \n",
       "1                   15.9        56112       12:49:00     30-10-2020   \n",
       "2                    6.8        94362       00:17:00     15-12-2020   \n",
       "3                    2.1        85469       23:09:00     29-11-2020   \n",
       "4                   19.0        70171       21:09:00     06-12-2020   \n",
       "\n",
       "    Listening Datetime  Unnamed: 11  \n",
       "0  2020-12-03 06:05:00          NaN  \n",
       "1  2020-10-30 12:49:00          NaN  \n",
       "2  2020-12-15 00:17:00          NaN  \n",
       "3  2020-11-29 23:09:00          NaN  \n",
       "4  2020-12-06 21:09:00          NaN  "
      ]
     },
     "execution_count": 4,
     "metadata": {},
     "output_type": "execute_result"
    }
   ],
   "source": [
    "listening = pd.read_csv(r'/home/quannt/DATAcracy/Scala/listening_processed.csv')\n",
    "listening.head()"
   ]
  },
  {
   "cell_type": "code",
   "execution_count": 5,
   "metadata": {},
   "outputs": [
    {
     "data": {
      "text/html": [
       "<div>\n",
       "<style scoped>\n",
       "    .dataframe tbody tr th:only-of-type {\n",
       "        vertical-align: middle;\n",
       "    }\n",
       "\n",
       "    .dataframe tbody tr th {\n",
       "        vertical-align: top;\n",
       "    }\n",
       "\n",
       "    .dataframe thead th {\n",
       "        text-align: right;\n",
       "    }\n",
       "</style>\n",
       "<table border=\"1\" class=\"dataframe\">\n",
       "  <thead>\n",
       "    <tr style=\"text-align: right;\">\n",
       "      <th></th>\n",
       "      <th>User_ID (FK)</th>\n",
       "      <th>Type_user</th>\n",
       "      <th>MainCluster_ID</th>\n",
       "      <th>MainCluster_Description</th>\n",
       "    </tr>\n",
       "  </thead>\n",
       "  <tbody>\n",
       "    <tr>\n",
       "      <th>0</th>\n",
       "      <td>40834</td>\n",
       "      <td>free</td>\n",
       "      <td>1</td>\n",
       "      <td>Hibernating</td>\n",
       "    </tr>\n",
       "    <tr>\n",
       "      <th>1</th>\n",
       "      <td>40854</td>\n",
       "      <td>free</td>\n",
       "      <td>1</td>\n",
       "      <td>Hibernating</td>\n",
       "    </tr>\n",
       "    <tr>\n",
       "      <th>2</th>\n",
       "      <td>40876</td>\n",
       "      <td>free</td>\n",
       "      <td>1</td>\n",
       "      <td>Hibernating</td>\n",
       "    </tr>\n",
       "    <tr>\n",
       "      <th>3</th>\n",
       "      <td>40883</td>\n",
       "      <td>free</td>\n",
       "      <td>1</td>\n",
       "      <td>Hibernating</td>\n",
       "    </tr>\n",
       "    <tr>\n",
       "      <th>4</th>\n",
       "      <td>40891</td>\n",
       "      <td>free</td>\n",
       "      <td>1</td>\n",
       "      <td>Hibernating</td>\n",
       "    </tr>\n",
       "  </tbody>\n",
       "</table>\n",
       "</div>"
      ],
      "text/plain": [
       "   User_ID (FK) Type_user  MainCluster_ID MainCluster_Description\n",
       "0         40834      free               1             Hibernating\n",
       "1         40854      free               1             Hibernating\n",
       "2         40876      free               1             Hibernating\n",
       "3         40883      free               1             Hibernating\n",
       "4         40891      free               1             Hibernating"
      ]
     },
     "execution_count": 5,
     "metadata": {},
     "output_type": "execute_result"
    }
   ],
   "source": [
    "clutering = pd.read_csv(r'/home/quannt/DATAcracy/Scala/clustering_processed.csv')\n",
    "clutering.head()"
   ]
  },
  {
   "cell_type": "markdown",
   "metadata": {},
   "source": [
    "##### Rename Columns"
   ]
  },
  {
   "cell_type": "code",
   "execution_count": 6,
   "metadata": {},
   "outputs": [],
   "source": [
    "order = order.rename(columns = {\"OrderID (PK)\": \"orderID\", \"Transaction Date\" : \"transaction_date\",\"UserID (FK)\" : \"userID\", \"Bill Type\": \"bill_type\", \"Total Amount\": \"total_amount\" })\n",
    "clustering = clutering.rename(columns = {\"User_ID (FK)\": \"userID\", \"Type_user\": \"type_user\", \"MainCluster_ID\" : \"main_cluseringID\", \"MainCluster_Description\" : \"main_clustering_description\"})\n",
    "listening = listening.rename(columns = {\"PlaylistID (PK)\": \"playlistID\", \"Playlist Name\":\"playlist_name\", \"Category\":\"cat\", \"Sub Category\" :\"sub_cat\", \"Playlist Type\" :\"palylist_type\",\"Playlist Duration (min)\": \"playlist_duration\",\"Actual Duration (min)\":\"actual_duation\",\"UserID (FK)\":\"userID\", \"Listening Time\":\"listening_time\", \"Listening Date\" :\"listening_date\", \"Listening Datetime\":\"listening_datetime\"})\n",
    "user = user.rename(columns = {\"UserID (PK)\":\"userID\", \"VIP hay Free\":\"user_type\", \"Gender\":\"gender\", \"Year of Birth\":\"year_of_birth\",\"Age Range\": \"age_range\", \"Age\":\"age\", \"Region\": \"region\",\"Operation Systems\":\"operation_system\",\"Registration Date\":\"registration_date\", \"Total Listerning\":\"total_listening\", \"Total Listening Time (Min)\":\"total_listening_time\",   })"
   ]
  },
  {
   "cell_type": "code",
   "execution_count": 7,
   "metadata": {},
   "outputs": [],
   "source": [
    "user.operation_system = user.operation_system.fillna('none')\n",
    "user[\"gender\"] = user.gender.replace(\"no information\",\"none\")\n",
    "user[\"gender\"] = user.gender.replace(\"other\",\"none\")\n",
    "user[\"age_range\"] = user.age_range.replace(\"no information\",\"none\")"
   ]
  },
  {
   "cell_type": "code",
   "execution_count": 8,
   "metadata": {},
   "outputs": [
    {
     "data": {
      "text/plain": [
       "array(['male', 'female', 'none'], dtype=object)"
      ]
     },
     "execution_count": 8,
     "metadata": {},
     "output_type": "execute_result"
    }
   ],
   "source": [
    "user.gender.unique()"
   ]
  },
  {
   "cell_type": "markdown",
   "metadata": {},
   "source": [
    "# EDA"
   ]
  },
  {
   "cell_type": "markdown",
   "metadata": {},
   "source": [
    "## 1. User paid"
   ]
  },
  {
   "cell_type": "markdown",
   "metadata": {},
   "source": [
    "### 1.1 Gender"
   ]
  },
  {
   "cell_type": "code",
   "execution_count": 210,
   "metadata": {},
   "outputs": [],
   "source": [
    "# order_1 =  order.groupby(['userID']).agg({\n",
    "#     'transaction_date': 'min',\n",
    "#     'oderID': 'count',\n",
    "#     'total_amount' :'sum'\n",
    "# }).reset_index()"
   ]
  },
  {
   "cell_type": "code",
   "execution_count": 9,
   "metadata": {},
   "outputs": [],
   "source": [
    "order_1 =  order.groupby(['userID','bill_type']).agg({\n",
    "    'transaction_date': 'min',\n",
    "    'orderID': 'count',\n",
    "    'total_amount' :'sum'\n",
    "}).reset_index().sort_values(by = ['userID','transaction_date'], ascending = True)"
   ]
  },
  {
   "cell_type": "code",
   "execution_count": 10,
   "metadata": {},
   "outputs": [],
   "source": [
    "user_1 = pd.merge(user, order_1, how = 'left', on = 'userID')"
   ]
  },
  {
   "cell_type": "code",
   "execution_count": 13,
   "metadata": {},
   "outputs": [],
   "source": [
    "user_paid = user_1[user_1['orderID'].notnull()]"
   ]
  },
  {
   "cell_type": "code",
   "execution_count": 14,
   "metadata": {},
   "outputs": [
    {
     "data": {
      "image/png": "[encoded data removed]",
      "text/plain": [
       "<Figure size 1296x576 with 2 Axes>"
      ]
     },
     "metadata": {
      "needs_background": "light"
     },
     "output_type": "display_data"
    }
   ],
   "source": [
    "f,ax=plt.subplots(1,2,figsize=(18,8))\n",
    "user_paid['gender'].value_counts().plot.pie(autopct='%1.1f%%',ax=ax[0],shadow=True)\n",
    "ax[0].set_title('gender')\n",
    "ax[0].set_ylabel('')\n",
    "sns.countplot('gender',data=user_paid,ax=ax[1])\n",
    "ax[1].set_title('gender')\n",
    "plt.show()"
   ]
  },
  {
   "cell_type": "code",
   "execution_count": 15,
   "metadata": {},
   "outputs": [
    {
     "data": {
      "image/png": "[encoded data removed]",
      "text/plain": [
       "<Figure size 1296x576 with 2 Axes>"
      ]
     },
     "metadata": {
      "needs_background": "light"
     },
     "output_type": "display_data"
    }
   ],
   "source": [
    "f,ax=plt.subplots(1,2,figsize=(18,8))\n",
    "sns.countplot('gender', hue = 'bill_type',data=user_paid,ax=ax[0])\n",
    "ax[0].set_title('gender')\n",
    "sns.countplot('gender', hue='operation_system',data=user_paid, ax=ax[1], palette='Set3')\n",
    "ax[1].set_title('Gender and Operation System')\n",
    "plt.show()"
   ]
  },
  {
   "cell_type": "code",
   "execution_count": 16,
   "metadata": {},
   "outputs": [
    {
     "data": {
      "text/plain": [
       "<AxesSubplot:xlabel='gender', ylabel='total_amount'>"
      ]
     },
     "execution_count": 16,
     "metadata": {},
     "output_type": "execute_result"
    },
    {
     "data": {
      "image/png": "[encoded data removed]",
      "text/plain": [
       "<Figure size 432x288 with 1 Axes>"
      ]
     },
     "metadata": {
      "needs_background": "light"
     },
     "output_type": "display_data"
    }
   ],
   "source": [
    "sns.boxplot(x='gender', y='total_amount',data=user_paid)"
   ]
  },
  {
   "cell_type": "code",
   "execution_count": 17,
   "metadata": {},
   "outputs": [
    {
     "data": {
      "text/plain": [
       "<AxesSubplot:xlabel='age_range', ylabel='count'>"
      ]
     },
     "execution_count": 17,
     "metadata": {},
     "output_type": "execute_result"
    },
    {
     "data": {
      "image/png": "[encoded data removed]",
      "text/plain": [
       "<Figure size 432x288 with 1 Axes>"
      ]
     },
     "metadata": {
      "needs_background": "light"
     },
     "output_type": "display_data"
    }
   ],
   "source": [
    "sns.countplot(x = 'age_range', data = user_paid)"
   ]
  },
  {
   "cell_type": "markdown",
   "metadata": {},
   "source": [
    "## 1.2 Listening"
   ]
  },
  {
   "cell_type": "code",
   "execution_count": 18,
   "metadata": {},
   "outputs": [],
   "source": [
    "listening['listening_datetime']= pd.to_datetime(listening['listening_datetime'])\n",
    "listening['hour_listening'] = listening.listening_datetime.dt.hour\n",
    "listening['dayofweek'] = listening['listening_datetime'].dt.dayofweek"
   ]
  },
  {
   "cell_type": "code",
   "execution_count": 19,
   "metadata": {},
   "outputs": [],
   "source": [
    "listening[\"timepoint_of_the_day\"] = listening.hour_listening.apply(lambda x : \n",
    "                                                             \"late night\" if x < 4 else\n",
    "                                                             \"early morning\" if x < 7 else\n",
    "                                                             \"morning\" if x < 11 else\n",
    "                                                             \"early afternoon\" if x < 16 else\n",
    "                                                             \"afternoon\" if x < 18 else\n",
    "                                                             \"evening\"\n",
    "                                                            )\n",
    "\n",
    "listening['dayofweek'] =listening.dayofweek.apply(lambda x :  \"Mon\" if x == 0 else\n",
    "                                                             \"Tue\" if x ==1 else\n",
    "                                                             \"Wed\" if x ==2 else\n",
    "                                                             \"Thu\" if x == 3 else\n",
    "                                                             \"Fri\" if x == 4 else\n",
    "                                                             \"Sat\" if x == 5 else\n",
    "                                                             \"Sun\" \n",
    "                                                            )\n",
    "\n",
    "listening['Workingday'] = listening[\"dayofweek\"].apply(lambda x : 0 if x == 'Sun' or x == 'Sat' else 1)"
   ]
  },
  {
   "cell_type": "code",
   "execution_count": 231,
   "metadata": {},
   "outputs": [],
   "source": [
    "# listening.groupby(['userID','sub_cat'])['actual_duation'].agg({\n",
    "#     'actual_duation': 'mean',\n",
    "#     'playlist_duration': 'mean'\n",
    "# }).reset_index()"
   ]
  },
  {
   "cell_type": "code",
   "execution_count": 20,
   "metadata": {},
   "outputs": [],
   "source": [
    "user_paid_listen = pd.merge(user_paid, listening, how = 'inner', on = ['userID'])"
   ]
  },
  {
   "cell_type": "code",
   "execution_count": 21,
   "metadata": {},
   "outputs": [
    {
     "data": {
      "text/plain": [
       "<AxesSubplot:xlabel='bill_type', ylabel='count'>"
      ]
     },
     "execution_count": 21,
     "metadata": {},
     "output_type": "execute_result"
    },
    {
     "data": {
      "image/png": "[encoded data removed]",
      "text/plain": [
       "<Figure size 432x288 with 1 Axes>"
      ]
     },
     "metadata": {},
     "output_type": "display_data"
    }
   ],
   "source": [
    "sns.set(style='darkgrid', font_scale=1.5)\n",
    "sns.countplot(x = 'bill_type', hue = 'cat', data = user_paid_listen)"
   ]
  },
  {
   "cell_type": "code",
   "execution_count": 251,
   "metadata": {},
   "outputs": [
    {
     "data": {
      "text/html": [
       "<div>\n",
       "<style scoped>\n",
       "    .dataframe tbody tr th:only-of-type {\n",
       "        vertical-align: middle;\n",
       "    }\n",
       "\n",
       "    .dataframe tbody tr th {\n",
       "        vertical-align: top;\n",
       "    }\n",
       "\n",
       "    .dataframe thead th {\n",
       "        text-align: right;\n",
       "    }\n",
       "</style>\n",
       "<table border=\"1\" class=\"dataframe\">\n",
       "  <thead>\n",
       "    <tr style=\"text-align: right;\">\n",
       "      <th></th>\n",
       "      <th>bill_type</th>\n",
       "      <th>sub_cat</th>\n",
       "      <th>userID</th>\n",
       "      <th>actual_duation</th>\n",
       "      <th>playlist_duration</th>\n",
       "    </tr>\n",
       "  </thead>\n",
       "  <tbody>\n",
       "    <tr>\n",
       "      <th>25</th>\n",
       "      <td>VIP</td>\n",
       "      <td>Tâm linh</td>\n",
       "      <td>59705</td>\n",
       "      <td>32.200149</td>\n",
       "      <td>479.531935</td>\n",
       "    </tr>\n",
       "    <tr>\n",
       "      <th>22</th>\n",
       "      <td>VIP</td>\n",
       "      <td>Thành công</td>\n",
       "      <td>37957</td>\n",
       "      <td>17.227831</td>\n",
       "      <td>336.312464</td>\n",
       "    </tr>\n",
       "    <tr>\n",
       "      <th>11</th>\n",
       "      <td>VIP</td>\n",
       "      <td>Kỹ năng</td>\n",
       "      <td>13641</td>\n",
       "      <td>15.987215</td>\n",
       "      <td>335.245136</td>\n",
       "    </tr>\n",
       "    <tr>\n",
       "      <th>6</th>\n",
       "      <td>VIP</td>\n",
       "      <td>Kinh doanh</td>\n",
       "      <td>12423</td>\n",
       "      <td>17.178604</td>\n",
       "      <td>382.628777</td>\n",
       "    </tr>\n",
       "    <tr>\n",
       "      <th>4</th>\n",
       "      <td>VIP</td>\n",
       "      <td>Hạnh phúc</td>\n",
       "      <td>11524</td>\n",
       "      <td>15.049375</td>\n",
       "      <td>246.690559</td>\n",
       "    </tr>\n",
       "    <tr>\n",
       "      <th>20</th>\n",
       "      <td>VIP</td>\n",
       "      <td>Thiếu nhi</td>\n",
       "      <td>10683</td>\n",
       "      <td>9.300356</td>\n",
       "      <td>196.488739</td>\n",
       "    </tr>\n",
       "    <tr>\n",
       "      <th>18</th>\n",
       "      <td>VIP</td>\n",
       "      <td>Sách tóm tắt</td>\n",
       "      <td>6085</td>\n",
       "      <td>14.688792</td>\n",
       "      <td>30.169121</td>\n",
       "    </tr>\n",
       "    <tr>\n",
       "      <th>8</th>\n",
       "      <td>VIP</td>\n",
       "      <td>Kinh điển Quốc tế</td>\n",
       "      <td>5797</td>\n",
       "      <td>17.925824</td>\n",
       "      <td>946.939658</td>\n",
       "    </tr>\n",
       "    <tr>\n",
       "      <th>0</th>\n",
       "      <td>VIP</td>\n",
       "      <td>Con cái</td>\n",
       "      <td>4334</td>\n",
       "      <td>16.696724</td>\n",
       "      <td>663.584010</td>\n",
       "    </tr>\n",
       "    <tr>\n",
       "      <th>13</th>\n",
       "      <td>VIP</td>\n",
       "      <td>Lịch sử</td>\n",
       "      <td>3889</td>\n",
       "      <td>14.126948</td>\n",
       "      <td>400.341862</td>\n",
       "    </tr>\n",
       "  </tbody>\n",
       "</table>\n",
       "</div>"
      ],
      "text/plain": [
       "   bill_type            sub_cat  userID  actual_duation  playlist_duration\n",
       "25       VIP           Tâm linh   59705       32.200149         479.531935\n",
       "22       VIP         Thành công   37957       17.227831         336.312464\n",
       "11       VIP            Kỹ năng   13641       15.987215         335.245136\n",
       "6        VIP         Kinh doanh   12423       17.178604         382.628777\n",
       "4        VIP          Hạnh phúc   11524       15.049375         246.690559\n",
       "20       VIP          Thiếu nhi   10683        9.300356         196.488739\n",
       "18       VIP       Sách tóm tắt    6085       14.688792          30.169121\n",
       "8        VIP  Kinh điển Quốc tế    5797       17.925824         946.939658\n",
       "0        VIP            Con cái    4334       16.696724         663.584010\n",
       "13       VIP            Lịch sử    3889       14.126948         400.341862"
      ]
     },
     "execution_count": 251,
     "metadata": {},
     "output_type": "execute_result"
    }
   ],
   "source": [
    "user_paid_listen[user_paid_listen.bill_type == 'VIP'].groupby(['bill_type','sub_cat'])\\\n",
    ".agg({\n",
    "    'userID' :'count',\n",
    "    'actual_duation': 'mean',\n",
    "    'playlist_duration':'mean'\n",
    "})\\\n",
    ".reset_index().sort_values(by = 'userID', ascending = False ).head(10)"
   ]
  },
  {
   "cell_type": "code",
   "execution_count": 250,
   "metadata": {},
   "outputs": [
    {
     "data": {
      "text/html": [
       "<div>\n",
       "<style scoped>\n",
       "    .dataframe tbody tr th:only-of-type {\n",
       "        vertical-align: middle;\n",
       "    }\n",
       "\n",
       "    .dataframe tbody tr th {\n",
       "        vertical-align: top;\n",
       "    }\n",
       "\n",
       "    .dataframe thead th {\n",
       "        text-align: right;\n",
       "    }\n",
       "</style>\n",
       "<table border=\"1\" class=\"dataframe\">\n",
       "  <thead>\n",
       "    <tr style=\"text-align: right;\">\n",
       "      <th></th>\n",
       "      <th>bill_type</th>\n",
       "      <th>sub_cat</th>\n",
       "      <th>userID</th>\n",
       "      <th>actual_duation</th>\n",
       "      <th>playlist_duration</th>\n",
       "    </tr>\n",
       "  </thead>\n",
       "  <tbody>\n",
       "    <tr>\n",
       "      <th>25</th>\n",
       "      <td>XU</td>\n",
       "      <td>Tâm linh</td>\n",
       "      <td>6128</td>\n",
       "      <td>41.203035</td>\n",
       "      <td>520.438691</td>\n",
       "    </tr>\n",
       "    <tr>\n",
       "      <th>22</th>\n",
       "      <td>XU</td>\n",
       "      <td>Thành công</td>\n",
       "      <td>3780</td>\n",
       "      <td>15.760608</td>\n",
       "      <td>317.041032</td>\n",
       "    </tr>\n",
       "    <tr>\n",
       "      <th>20</th>\n",
       "      <td>XU</td>\n",
       "      <td>Thiếu nhi</td>\n",
       "      <td>1519</td>\n",
       "      <td>7.677551</td>\n",
       "      <td>133.909941</td>\n",
       "    </tr>\n",
       "    <tr>\n",
       "      <th>11</th>\n",
       "      <td>XU</td>\n",
       "      <td>Kỹ năng</td>\n",
       "      <td>1440</td>\n",
       "      <td>18.842569</td>\n",
       "      <td>347.443681</td>\n",
       "    </tr>\n",
       "    <tr>\n",
       "      <th>6</th>\n",
       "      <td>XU</td>\n",
       "      <td>Kinh doanh</td>\n",
       "      <td>1017</td>\n",
       "      <td>16.605015</td>\n",
       "      <td>348.459194</td>\n",
       "    </tr>\n",
       "    <tr>\n",
       "      <th>4</th>\n",
       "      <td>XU</td>\n",
       "      <td>Hạnh phúc</td>\n",
       "      <td>815</td>\n",
       "      <td>15.470307</td>\n",
       "      <td>241.913374</td>\n",
       "    </tr>\n",
       "    <tr>\n",
       "      <th>18</th>\n",
       "      <td>XU</td>\n",
       "      <td>Sách tóm tắt</td>\n",
       "      <td>714</td>\n",
       "      <td>15.313445</td>\n",
       "      <td>30.353081</td>\n",
       "    </tr>\n",
       "    <tr>\n",
       "      <th>9</th>\n",
       "      <td>XU</td>\n",
       "      <td>Kinh điển Việt Nam</td>\n",
       "      <td>618</td>\n",
       "      <td>20.244984</td>\n",
       "      <td>344.752913</td>\n",
       "    </tr>\n",
       "    <tr>\n",
       "      <th>10</th>\n",
       "      <td>XU</td>\n",
       "      <td>Kiến thức</td>\n",
       "      <td>524</td>\n",
       "      <td>9.246183</td>\n",
       "      <td>435.979580</td>\n",
       "    </tr>\n",
       "    <tr>\n",
       "      <th>8</th>\n",
       "      <td>XU</td>\n",
       "      <td>Kinh điển Quốc tế</td>\n",
       "      <td>451</td>\n",
       "      <td>17.252106</td>\n",
       "      <td>903.076497</td>\n",
       "    </tr>\n",
       "  </tbody>\n",
       "</table>\n",
       "</div>"
      ],
      "text/plain": [
       "   bill_type             sub_cat  userID  actual_duation  playlist_duration\n",
       "25        XU            Tâm linh    6128       41.203035         520.438691\n",
       "22        XU          Thành công    3780       15.760608         317.041032\n",
       "20        XU           Thiếu nhi    1519        7.677551         133.909941\n",
       "11        XU             Kỹ năng    1440       18.842569         347.443681\n",
       "6         XU          Kinh doanh    1017       16.605015         348.459194\n",
       "4         XU           Hạnh phúc     815       15.470307         241.913374\n",
       "18        XU        Sách tóm tắt     714       15.313445          30.353081\n",
       "9         XU  Kinh điển Việt Nam     618       20.244984         344.752913\n",
       "10        XU           Kiến thức     524        9.246183         435.979580\n",
       "8         XU   Kinh điển Quốc tế     451       17.252106         903.076497"
      ]
     },
     "execution_count": 250,
     "metadata": {},
     "output_type": "execute_result"
    }
   ],
   "source": [
    "user_paid_listen[user_paid_listen.bill_type == 'XU'].groupby(['bill_type','sub_cat'])\\\n",
    ".agg({\n",
    "    'userID' :'count',\n",
    "    'actual_duation': 'mean',\n",
    "    'playlist_duration':'mean'\n",
    "})\\\n",
    ".reset_index().sort_values(by = 'userID', ascending = False ).head(10)"
   ]
  },
  {
   "cell_type": "code",
   "execution_count": 252,
   "metadata": {},
   "outputs": [
    {
     "data": {
      "text/html": [
       "<div>\n",
       "<style scoped>\n",
       "    .dataframe tbody tr th:only-of-type {\n",
       "        vertical-align: middle;\n",
       "    }\n",
       "\n",
       "    .dataframe tbody tr th {\n",
       "        vertical-align: top;\n",
       "    }\n",
       "\n",
       "    .dataframe thead th {\n",
       "        text-align: right;\n",
       "    }\n",
       "</style>\n",
       "<table border=\"1\" class=\"dataframe\">\n",
       "  <thead>\n",
       "    <tr style=\"text-align: right;\">\n",
       "      <th></th>\n",
       "      <th>bill_type</th>\n",
       "      <th>sub_cat</th>\n",
       "      <th>userID</th>\n",
       "      <th>actual_duation</th>\n",
       "      <th>playlist_duration</th>\n",
       "    </tr>\n",
       "  </thead>\n",
       "  <tbody>\n",
       "    <tr>\n",
       "      <th>25</th>\n",
       "      <td>9K</td>\n",
       "      <td>Tâm linh</td>\n",
       "      <td>10047</td>\n",
       "      <td>27.676839</td>\n",
       "      <td>494.585856</td>\n",
       "    </tr>\n",
       "    <tr>\n",
       "      <th>22</th>\n",
       "      <td>9K</td>\n",
       "      <td>Thành công</td>\n",
       "      <td>7247</td>\n",
       "      <td>15.102994</td>\n",
       "      <td>317.159142</td>\n",
       "    </tr>\n",
       "    <tr>\n",
       "      <th>20</th>\n",
       "      <td>9K</td>\n",
       "      <td>Thiếu nhi</td>\n",
       "      <td>2706</td>\n",
       "      <td>7.863452</td>\n",
       "      <td>161.309017</td>\n",
       "    </tr>\n",
       "    <tr>\n",
       "      <th>11</th>\n",
       "      <td>9K</td>\n",
       "      <td>Kỹ năng</td>\n",
       "      <td>2661</td>\n",
       "      <td>13.705787</td>\n",
       "      <td>274.993461</td>\n",
       "    </tr>\n",
       "    <tr>\n",
       "      <th>18</th>\n",
       "      <td>9K</td>\n",
       "      <td>Sách tóm tắt</td>\n",
       "      <td>2055</td>\n",
       "      <td>12.290803</td>\n",
       "      <td>31.729002</td>\n",
       "    </tr>\n",
       "    <tr>\n",
       "      <th>4</th>\n",
       "      <td>9K</td>\n",
       "      <td>Hạnh phúc</td>\n",
       "      <td>2000</td>\n",
       "      <td>10.965200</td>\n",
       "      <td>224.521650</td>\n",
       "    </tr>\n",
       "    <tr>\n",
       "      <th>6</th>\n",
       "      <td>9K</td>\n",
       "      <td>Kinh doanh</td>\n",
       "      <td>1991</td>\n",
       "      <td>16.318835</td>\n",
       "      <td>353.066549</td>\n",
       "    </tr>\n",
       "    <tr>\n",
       "      <th>9</th>\n",
       "      <td>9K</td>\n",
       "      <td>Kinh điển Việt Nam</td>\n",
       "      <td>1623</td>\n",
       "      <td>17.462354</td>\n",
       "      <td>305.326248</td>\n",
       "    </tr>\n",
       "    <tr>\n",
       "      <th>10</th>\n",
       "      <td>9K</td>\n",
       "      <td>Kiến thức</td>\n",
       "      <td>1326</td>\n",
       "      <td>9.978205</td>\n",
       "      <td>169.338311</td>\n",
       "    </tr>\n",
       "    <tr>\n",
       "      <th>30</th>\n",
       "      <td>9K</td>\n",
       "      <td>Văn học VN Hiện đại</td>\n",
       "      <td>921</td>\n",
       "      <td>15.928773</td>\n",
       "      <td>240.008686</td>\n",
       "    </tr>\n",
       "  </tbody>\n",
       "</table>\n",
       "</div>"
      ],
      "text/plain": [
       "   bill_type              sub_cat  userID  actual_duation  playlist_duration\n",
       "25        9K             Tâm linh   10047       27.676839         494.585856\n",
       "22        9K           Thành công    7247       15.102994         317.159142\n",
       "20        9K            Thiếu nhi    2706        7.863452         161.309017\n",
       "11        9K              Kỹ năng    2661       13.705787         274.993461\n",
       "18        9K         Sách tóm tắt    2055       12.290803          31.729002\n",
       "4         9K            Hạnh phúc    2000       10.965200         224.521650\n",
       "6         9K           Kinh doanh    1991       16.318835         353.066549\n",
       "9         9K   Kinh điển Việt Nam    1623       17.462354         305.326248\n",
       "10        9K            Kiến thức    1326        9.978205         169.338311\n",
       "30        9K  Văn học VN Hiện đại     921       15.928773         240.008686"
      ]
     },
     "execution_count": 252,
     "metadata": {},
     "output_type": "execute_result"
    }
   ],
   "source": [
    "user_paid_listen[user_paid_listen.bill_type == '9K'].groupby(['bill_type','sub_cat'])\\\n",
    ".agg({\n",
    "    'userID' :'count',\n",
    "    'actual_duation': 'mean',\n",
    "    'playlist_duration':'mean'\n",
    "})\\\n",
    ".reset_index().sort_values(by = 'userID', ascending = False ).head(10)"
   ]
  },
  {
   "cell_type": "code",
   "execution_count": 263,
   "metadata": {},
   "outputs": [
    {
     "data": {
      "text/html": [
       "<div>\n",
       "<style scoped>\n",
       "    .dataframe tbody tr th:only-of-type {\n",
       "        vertical-align: middle;\n",
       "    }\n",
       "\n",
       "    .dataframe tbody tr th {\n",
       "        vertical-align: top;\n",
       "    }\n",
       "\n",
       "    .dataframe thead th {\n",
       "        text-align: right;\n",
       "    }\n",
       "</style>\n",
       "<table border=\"1\" class=\"dataframe\">\n",
       "  <thead>\n",
       "    <tr style=\"text-align: right;\">\n",
       "      <th></th>\n",
       "      <th>userID</th>\n",
       "      <th>sub_cat</th>\n",
       "      <th>actual_duation</th>\n",
       "    </tr>\n",
       "  </thead>\n",
       "  <tbody>\n",
       "    <tr>\n",
       "      <th>8427</th>\n",
       "      <td>75175</td>\n",
       "      <td>Sách tóm tắt</td>\n",
       "      <td>636.1</td>\n",
       "    </tr>\n",
       "    <tr>\n",
       "      <th>3135</th>\n",
       "      <td>51489</td>\n",
       "      <td>Sách tóm tắt</td>\n",
       "      <td>203.7</td>\n",
       "    </tr>\n",
       "    <tr>\n",
       "      <th>6915</th>\n",
       "      <td>65343</td>\n",
       "      <td>Sách tóm tắt</td>\n",
       "      <td>182.8</td>\n",
       "    </tr>\n",
       "    <tr>\n",
       "      <th>3532</th>\n",
       "      <td>52827</td>\n",
       "      <td>Pháp thoại</td>\n",
       "      <td>152.4</td>\n",
       "    </tr>\n",
       "    <tr>\n",
       "      <th>3653</th>\n",
       "      <td>53322</td>\n",
       "      <td>Pháp thoại</td>\n",
       "      <td>127.3</td>\n",
       "    </tr>\n",
       "    <tr>\n",
       "      <th>9382</th>\n",
       "      <td>82486</td>\n",
       "      <td>Sách tóm tắt</td>\n",
       "      <td>127.2</td>\n",
       "    </tr>\n",
       "    <tr>\n",
       "      <th>5175</th>\n",
       "      <td>58585</td>\n",
       "      <td>Pháp thoại</td>\n",
       "      <td>115.9</td>\n",
       "    </tr>\n",
       "    <tr>\n",
       "      <th>11711</th>\n",
       "      <td>106247</td>\n",
       "      <td>Thành công</td>\n",
       "      <td>112.0</td>\n",
       "    </tr>\n",
       "    <tr>\n",
       "      <th>1976</th>\n",
       "      <td>48443</td>\n",
       "      <td>Tâm linh</td>\n",
       "      <td>105.0</td>\n",
       "    </tr>\n",
       "    <tr>\n",
       "      <th>3997</th>\n",
       "      <td>54339</td>\n",
       "      <td>Văn hoá</td>\n",
       "      <td>104.3</td>\n",
       "    </tr>\n",
       "    <tr>\n",
       "      <th>7294</th>\n",
       "      <td>67498</td>\n",
       "      <td>Thành công</td>\n",
       "      <td>94.0</td>\n",
       "    </tr>\n",
       "    <tr>\n",
       "      <th>3538</th>\n",
       "      <td>52827</td>\n",
       "      <td>Tâm sự</td>\n",
       "      <td>93.9</td>\n",
       "    </tr>\n",
       "    <tr>\n",
       "      <th>7696</th>\n",
       "      <td>69439</td>\n",
       "      <td>Sách tóm tắt</td>\n",
       "      <td>85.9</td>\n",
       "    </tr>\n",
       "    <tr>\n",
       "      <th>180</th>\n",
       "      <td>41905</td>\n",
       "      <td>Tâm linh</td>\n",
       "      <td>85.0</td>\n",
       "    </tr>\n",
       "    <tr>\n",
       "      <th>8270</th>\n",
       "      <td>73749</td>\n",
       "      <td>Tâm linh</td>\n",
       "      <td>79.3</td>\n",
       "    </tr>\n",
       "    <tr>\n",
       "      <th>9664</th>\n",
       "      <td>84542</td>\n",
       "      <td>Sách tóm tắt</td>\n",
       "      <td>73.1</td>\n",
       "    </tr>\n",
       "    <tr>\n",
       "      <th>7566</th>\n",
       "      <td>68797</td>\n",
       "      <td>Văn học Quốc tế Hiện đại</td>\n",
       "      <td>69.8</td>\n",
       "    </tr>\n",
       "    <tr>\n",
       "      <th>8609</th>\n",
       "      <td>76432</td>\n",
       "      <td>Thành công</td>\n",
       "      <td>69.3</td>\n",
       "    </tr>\n",
       "    <tr>\n",
       "      <th>9924</th>\n",
       "      <td>85664</td>\n",
       "      <td>Tâm linh</td>\n",
       "      <td>68.6</td>\n",
       "    </tr>\n",
       "    <tr>\n",
       "      <th>11685</th>\n",
       "      <td>104700</td>\n",
       "      <td>Tâm linh</td>\n",
       "      <td>65.4</td>\n",
       "    </tr>\n",
       "  </tbody>\n",
       "</table>\n",
       "</div>"
      ],
      "text/plain": [
       "       userID                   sub_cat  actual_duation\n",
       "8427    75175              Sách tóm tắt           636.1\n",
       "3135    51489              Sách tóm tắt           203.7\n",
       "6915    65343              Sách tóm tắt           182.8\n",
       "3532    52827                Pháp thoại           152.4\n",
       "3653    53322                Pháp thoại           127.3\n",
       "9382    82486              Sách tóm tắt           127.2\n",
       "5175    58585                Pháp thoại           115.9\n",
       "11711  106247                Thành công           112.0\n",
       "1976    48443                  Tâm linh           105.0\n",
       "3997    54339                   Văn hoá           104.3\n",
       "7294    67498                Thành công            94.0\n",
       "3538    52827                    Tâm sự            93.9\n",
       "7696    69439              Sách tóm tắt            85.9\n",
       "180     41905                  Tâm linh            85.0\n",
       "8270    73749                  Tâm linh            79.3\n",
       "9664    84542              Sách tóm tắt            73.1\n",
       "7566    68797  Văn học Quốc tế Hiện đại            69.8\n",
       "8609    76432                Thành công            69.3\n",
       "9924    85664                  Tâm linh            68.6\n",
       "11685  104700                  Tâm linh            65.4"
      ]
     },
     "execution_count": 263,
     "metadata": {},
     "output_type": "execute_result"
    }
   ],
   "source": [
    "user_paid_listen[user_paid_listen.bill_type == 'VIP'].groupby(['userID','sub_cat'])\\\n",
    "['actual_duation'].min().reset_index().sort_values(by= 'actual_duation', ascending = False).head(20)"
   ]
  },
  {
   "cell_type": "code",
   "execution_count": 265,
   "metadata": {},
   "outputs": [
    {
     "data": {
      "text/html": [
       "<div>\n",
       "<style scoped>\n",
       "    .dataframe tbody tr th:only-of-type {\n",
       "        vertical-align: middle;\n",
       "    }\n",
       "\n",
       "    .dataframe tbody tr th {\n",
       "        vertical-align: top;\n",
       "    }\n",
       "\n",
       "    .dataframe thead th {\n",
       "        text-align: right;\n",
       "    }\n",
       "</style>\n",
       "<table border=\"1\" class=\"dataframe\">\n",
       "  <thead>\n",
       "    <tr style=\"text-align: right;\">\n",
       "      <th></th>\n",
       "      <th>age_range</th>\n",
       "      <th>sub_cat</th>\n",
       "      <th>actual_duation</th>\n",
       "    </tr>\n",
       "  </thead>\n",
       "  <tbody>\n",
       "    <tr>\n",
       "      <th>205</th>\n",
       "      <td>Over 65</td>\n",
       "      <td>Sách tóm tắt</td>\n",
       "      <td>636.1</td>\n",
       "    </tr>\n",
       "    <tr>\n",
       "      <th>163</th>\n",
       "      <td>Below 18</td>\n",
       "      <td>Thiền - Tĩnh tâm</td>\n",
       "      <td>6.5</td>\n",
       "    </tr>\n",
       "    <tr>\n",
       "      <th>207</th>\n",
       "      <td>Over 65</td>\n",
       "      <td>Thiền - Tĩnh tâm</td>\n",
       "      <td>6.3</td>\n",
       "    </tr>\n",
       "    <tr>\n",
       "      <th>201</th>\n",
       "      <td>Over 65</td>\n",
       "      <td>Kinh điển Việt Nam</td>\n",
       "      <td>4.9</td>\n",
       "    </tr>\n",
       "    <tr>\n",
       "      <th>203</th>\n",
       "      <td>Over 65</td>\n",
       "      <td>Kỹ năng</td>\n",
       "      <td>2.8</td>\n",
       "    </tr>\n",
       "    <tr>\n",
       "      <th>98</th>\n",
       "      <td>45 - 54</td>\n",
       "      <td>Học ngoại ngữ</td>\n",
       "      <td>1.4</td>\n",
       "    </tr>\n",
       "    <tr>\n",
       "      <th>204</th>\n",
       "      <td>Over 65</td>\n",
       "      <td>Lịch sử</td>\n",
       "      <td>1.4</td>\n",
       "    </tr>\n",
       "    <tr>\n",
       "      <th>206</th>\n",
       "      <td>Over 65</td>\n",
       "      <td>Sức khoẻ</td>\n",
       "      <td>1.3</td>\n",
       "    </tr>\n",
       "    <tr>\n",
       "      <th>147</th>\n",
       "      <td>55 - 64</td>\n",
       "      <td>Trinh thám</td>\n",
       "      <td>0.9</td>\n",
       "    </tr>\n",
       "    <tr>\n",
       "      <th>199</th>\n",
       "      <td>Over 65</td>\n",
       "      <td>Kinh doanh</td>\n",
       "      <td>0.7</td>\n",
       "    </tr>\n",
       "    <tr>\n",
       "      <th>129</th>\n",
       "      <td>55 - 64</td>\n",
       "      <td>Học ngoại ngữ</td>\n",
       "      <td>0.7</td>\n",
       "    </tr>\n",
       "    <tr>\n",
       "      <th>149</th>\n",
       "      <td>55 - 64</td>\n",
       "      <td>Tâm lý</td>\n",
       "      <td>0.7</td>\n",
       "    </tr>\n",
       "    <tr>\n",
       "      <th>146</th>\n",
       "      <td>55 - 64</td>\n",
       "      <td>Tin tức</td>\n",
       "      <td>0.6</td>\n",
       "    </tr>\n",
       "    <tr>\n",
       "      <th>159</th>\n",
       "      <td>Below 18</td>\n",
       "      <td>Ngôn tình</td>\n",
       "      <td>0.6</td>\n",
       "    </tr>\n",
       "    <tr>\n",
       "      <th>119</th>\n",
       "      <td>45 - 54</td>\n",
       "      <td>Tâm lý</td>\n",
       "      <td>0.5</td>\n",
       "    </tr>\n",
       "    <tr>\n",
       "      <th>116</th>\n",
       "      <td>45 - 54</td>\n",
       "      <td>Tin tức</td>\n",
       "      <td>0.5</td>\n",
       "    </tr>\n",
       "    <tr>\n",
       "      <th>208</th>\n",
       "      <td>Over 65</td>\n",
       "      <td>Thành công</td>\n",
       "      <td>0.4</td>\n",
       "    </tr>\n",
       "    <tr>\n",
       "      <th>202</th>\n",
       "      <td>Over 65</td>\n",
       "      <td>Kiến thức</td>\n",
       "      <td>0.3</td>\n",
       "    </tr>\n",
       "    <tr>\n",
       "      <th>110</th>\n",
       "      <td>45 - 54</td>\n",
       "      <td>Pháp thoại</td>\n",
       "      <td>0.3</td>\n",
       "    </tr>\n",
       "    <tr>\n",
       "      <th>156</th>\n",
       "      <td>Below 18</td>\n",
       "      <td>Kiến thức</td>\n",
       "      <td>0.3</td>\n",
       "    </tr>\n",
       "  </tbody>\n",
       "</table>\n",
       "</div>"
      ],
      "text/plain": [
       "    age_range             sub_cat  actual_duation\n",
       "205   Over 65        Sách tóm tắt           636.1\n",
       "163  Below 18    Thiền - Tĩnh tâm             6.5\n",
       "207   Over 65    Thiền - Tĩnh tâm             6.3\n",
       "201   Over 65  Kinh điển Việt Nam             4.9\n",
       "203   Over 65             Kỹ năng             2.8\n",
       "98    45 - 54       Học ngoại ngữ             1.4\n",
       "204   Over 65             Lịch sử             1.4\n",
       "206   Over 65            Sức khoẻ             1.3\n",
       "147   55 - 64          Trinh thám             0.9\n",
       "199   Over 65          Kinh doanh             0.7\n",
       "129   55 - 64       Học ngoại ngữ             0.7\n",
       "149   55 - 64              Tâm lý             0.7\n",
       "146   55 - 64             Tin tức             0.6\n",
       "159  Below 18           Ngôn tình             0.6\n",
       "119   45 - 54              Tâm lý             0.5\n",
       "116   45 - 54             Tin tức             0.5\n",
       "208   Over 65          Thành công             0.4\n",
       "202   Over 65           Kiến thức             0.3\n",
       "110   45 - 54          Pháp thoại             0.3\n",
       "156  Below 18           Kiến thức             0.3"
      ]
     },
     "execution_count": 265,
     "metadata": {},
     "output_type": "execute_result"
    }
   ],
   "source": [
    "user_paid_listen[user_paid_listen.bill_type == 'VIP'].groupby(['age_range','sub_cat'])\\\n",
    "['actual_duation'].min().reset_index().sort_values(by= 'actual_duation', ascending = False).head(20)"
   ]
  },
  {
   "cell_type": "markdown",
   "metadata": {},
   "source": [
    "## Content value on each group"
   ]
  },
  {
   "cell_type": "code",
   "execution_count": 23,
   "metadata": {},
   "outputs": [],
   "source": [
    "Paid_type_user = clustering[(clustering.main_clustering_description == 'Loyal Users') \\\n",
    "           | (clustering.main_clustering_description == 'New Paid Users')\\\n",
    "          | (clustering.main_clustering_description == 'Potential Users')]"
   ]
  },
  {
   "cell_type": "code",
   "execution_count": 24,
   "metadata": {},
   "outputs": [],
   "source": [
    "Paid_type_user = pd.merge(Paid_type_user[['userID','main_clustering_description']]\\\n",
    "                          , listening, how = 'inner', on = 'userID')"
   ]
  },
  {
   "cell_type": "markdown",
   "metadata": {},
   "source": [
    "### Loyal Users"
   ]
  },
  {
   "cell_type": "code",
   "execution_count": 42,
   "metadata": {},
   "outputs": [],
   "source": [
    "loyal_user = Paid_type_user[Paid_type_user.main_clustering_description == 'Loyal Users'].groupby([\n",
    "    'sub_cat','playlist_name','main_clustering_description'\n",
    "]).agg({\n",
    "    'actual_duation': 'sum',\n",
    "    'playlistID': 'count'\n",
    "}).reset_index().sort_values(by = ['actual_duation','playlistID'], ascending = False)"
   ]
  },
  {
   "cell_type": "code",
   "execution_count": 43,
   "metadata": {},
   "outputs": [],
   "source": [
    "loyal_user['avg_actual'] = loyal_user.actual_duation / loyal_user.playlistID"
   ]
  },
  {
   "cell_type": "code",
   "execution_count": 72,
   "metadata": {},
   "outputs": [],
   "source": [
    "loyal_user_10  = loyal_user.sort_values(by = 'avg_actual', ascending = False).head(10)"
   ]
  },
  {
   "cell_type": "markdown",
   "metadata": {},
   "source": [
    "### New Paid Users"
   ]
  },
  {
   "cell_type": "code",
   "execution_count": 39,
   "metadata": {},
   "outputs": [],
   "source": [
    "new_paid_user = Paid_type_user[Paid_type_user.main_clustering_description == 'New Paid Users'].groupby([\n",
    "    'sub_cat','playlist_name','main_clustering_description'\n",
    "]).agg({\n",
    "    'actual_duation': 'sum',\n",
    "    'playlistID': 'count'\n",
    "}).reset_index().sort_values(by = ['actual_duation','playlistID'], ascending = False)"
   ]
  },
  {
   "cell_type": "code",
   "execution_count": 40,
   "metadata": {},
   "outputs": [],
   "source": [
    "new_paid_user['avg_actual'] = new_paid_user.actual_duation / new_paid_user.playlistID"
   ]
  },
  {
   "cell_type": "code",
   "execution_count": 73,
   "metadata": {},
   "outputs": [],
   "source": [
    "new_paid_user_10 =  new_paid_user.sort_values(by = ['avg_actual','playlistID','actual_duation'], ascending = False).head(10)"
   ]
  },
  {
   "cell_type": "markdown",
   "metadata": {},
   "source": [
    "### Potential Users"
   ]
  },
  {
   "cell_type": "code",
   "execution_count": 34,
   "metadata": {},
   "outputs": [],
   "source": [
    "potentail_user = Paid_type_user[Paid_type_user.main_clustering_description == 'Potential Users'].groupby([\n",
    "    'sub_cat','playlist_name','main_clustering_description'\n",
    "]).agg({\n",
    "    'actual_duation': 'sum',\n",
    "    'playlistID': 'count'\n",
    "}).reset_index().sort_values(by = ['actual_duation','playlistID'], ascending = False)"
   ]
  },
  {
   "cell_type": "code",
   "execution_count": 35,
   "metadata": {},
   "outputs": [],
   "source": [
    "potentail_user['avg_actual'] = potentail_user.actual_duation / potentail_user.playlistID"
   ]
  },
  {
   "cell_type": "code",
   "execution_count": 74,
   "metadata": {},
   "outputs": [],
   "source": [
    "potentail_user_10 = potentail_user.sort_values(by = 'avg_actual', ascending = False).head(10)"
   ]
  },
  {
   "cell_type": "code",
   "execution_count": 75,
   "metadata": {
    "scrolled": true
   },
   "outputs": [
    {
     "data": {
      "text/html": [
       "<div>\n",
       "<style scoped>\n",
       "    .dataframe tbody tr th:only-of-type {\n",
       "        vertical-align: middle;\n",
       "    }\n",
       "\n",
       "    .dataframe tbody tr th {\n",
       "        vertical-align: top;\n",
       "    }\n",
       "\n",
       "    .dataframe thead th {\n",
       "        text-align: right;\n",
       "    }\n",
       "</style>\n",
       "<table border=\"1\" class=\"dataframe\">\n",
       "  <thead>\n",
       "    <tr style=\"text-align: right;\">\n",
       "      <th></th>\n",
       "      <th>sub_cat</th>\n",
       "      <th>playlist_name</th>\n",
       "      <th>main_clustering_description</th>\n",
       "      <th>actual_duation</th>\n",
       "      <th>playlistID</th>\n",
       "      <th>avg_actual</th>\n",
       "      <th>actual_duation_log</th>\n",
       "      <th>playlistID_log</th>\n",
       "      <th>avg_actual_log</th>\n",
       "    </tr>\n",
       "  </thead>\n",
       "  <tbody>\n",
       "    <tr>\n",
       "      <th>767</th>\n",
       "      <td>Thiếu nhi</td>\n",
       "      <td>Truyện Thiếu Nhi Hạt giống tâm hồn 3 - Tâm Hồn...</td>\n",
       "      <td>Potential Users</td>\n",
       "      <td>1134.1</td>\n",
       "      <td>13</td>\n",
       "      <td>87.238462</td>\n",
       "      <td>7.033595</td>\n",
       "      <td>2.564957</td>\n",
       "      <td>4.468646</td>\n",
       "    </tr>\n",
       "    <tr>\n",
       "      <th>371</th>\n",
       "      <td>Kỹ năng</td>\n",
       "      <td>Có Điều Kiện Cứ Thể Hiện</td>\n",
       "      <td>Potential Users</td>\n",
       "      <td>325.6</td>\n",
       "      <td>4</td>\n",
       "      <td>81.400000</td>\n",
       "      <td>5.785670</td>\n",
       "      <td>1.386319</td>\n",
       "      <td>4.399377</td>\n",
       "    </tr>\n",
       "    <tr>\n",
       "      <th>280</th>\n",
       "      <td>Kinh điển Việt Nam</td>\n",
       "      <td>Nửa Chừng Xuân</td>\n",
       "      <td>Potential Users</td>\n",
       "      <td>1768.9</td>\n",
       "      <td>22</td>\n",
       "      <td>80.404545</td>\n",
       "      <td>7.478113</td>\n",
       "      <td>3.091047</td>\n",
       "      <td>4.387072</td>\n",
       "    </tr>\n",
       "    <tr>\n",
       "      <th>290</th>\n",
       "      <td>Kinh điển Việt Nam</td>\n",
       "      <td>Truyện Ngắn Thạch Lam 2 - Bóng Người Xưa</td>\n",
       "      <td>Potential Users</td>\n",
       "      <td>1005.8</td>\n",
       "      <td>14</td>\n",
       "      <td>71.842857</td>\n",
       "      <td>6.913539</td>\n",
       "      <td>2.639064</td>\n",
       "      <td>4.274483</td>\n",
       "    </tr>\n",
       "    <tr>\n",
       "      <th>889</th>\n",
       "      <td>Trinh thám</td>\n",
       "      <td>Hang Dã Thú</td>\n",
       "      <td>Potential Users</td>\n",
       "      <td>1416.5</td>\n",
       "      <td>21</td>\n",
       "      <td>67.452381</td>\n",
       "      <td>7.255944</td>\n",
       "      <td>3.044527</td>\n",
       "      <td>4.211423</td>\n",
       "    </tr>\n",
       "    <tr>\n",
       "      <th>250</th>\n",
       "      <td>Kinh điển Quốc tế</td>\n",
       "      <td>Ruồi Trâu</td>\n",
       "      <td>Potential Users</td>\n",
       "      <td>392.7</td>\n",
       "      <td>6</td>\n",
       "      <td>65.450000</td>\n",
       "      <td>5.973046</td>\n",
       "      <td>1.791776</td>\n",
       "      <td>4.181288</td>\n",
       "    </tr>\n",
       "    <tr>\n",
       "      <th>571</th>\n",
       "      <td>Sách tóm tắt</td>\n",
       "      <td>[Sách Tóm Tắt] 100 Ý Tưởng Bán Hàng Hay Nhất M...</td>\n",
       "      <td>Potential Users</td>\n",
       "      <td>313.1</td>\n",
       "      <td>5</td>\n",
       "      <td>62.620000</td>\n",
       "      <td>5.746523</td>\n",
       "      <td>1.609458</td>\n",
       "      <td>4.137086</td>\n",
       "    </tr>\n",
       "    <tr>\n",
       "      <th>140</th>\n",
       "      <td>Hạnh phúc</td>\n",
       "      <td>Sức Mạnh Của Sự Tử Tế</td>\n",
       "      <td>Potential Users</td>\n",
       "      <td>782.3</td>\n",
       "      <td>14</td>\n",
       "      <td>55.878571</td>\n",
       "      <td>6.662238</td>\n",
       "      <td>2.639064</td>\n",
       "      <td>4.023183</td>\n",
       "    </tr>\n",
       "    <tr>\n",
       "      <th>698</th>\n",
       "      <td>Thiếu nhi</td>\n",
       "      <td>Chú Mèo Đi Hia</td>\n",
       "      <td>Potential Users</td>\n",
       "      <td>440.1</td>\n",
       "      <td>8</td>\n",
       "      <td>55.012500</td>\n",
       "      <td>6.087002</td>\n",
       "      <td>2.079454</td>\n",
       "      <td>4.007562</td>\n",
       "    </tr>\n",
       "    <tr>\n",
       "      <th>515</th>\n",
       "      <td>Ngôn tình</td>\n",
       "      <td>Phấn Hoa Lầu Xanh</td>\n",
       "      <td>Potential Users</td>\n",
       "      <td>709.9</td>\n",
       "      <td>13</td>\n",
       "      <td>54.607692</td>\n",
       "      <td>6.565124</td>\n",
       "      <td>2.564957</td>\n",
       "      <td>4.000177</td>\n",
       "    </tr>\n",
       "  </tbody>\n",
       "</table>\n",
       "</div>"
      ],
      "text/plain": [
       "                sub_cat                                      playlist_name  \\\n",
       "767           Thiếu nhi  Truyện Thiếu Nhi Hạt giống tâm hồn 3 - Tâm Hồn...   \n",
       "371             Kỹ năng                           Có Điều Kiện Cứ Thể Hiện   \n",
       "280  Kinh điển Việt Nam                                     Nửa Chừng Xuân   \n",
       "290  Kinh điển Việt Nam           Truyện Ngắn Thạch Lam 2 - Bóng Người Xưa   \n",
       "889          Trinh thám                                        Hang Dã Thú   \n",
       "250   Kinh điển Quốc tế                                          Ruồi Trâu   \n",
       "571        Sách tóm tắt  [Sách Tóm Tắt] 100 Ý Tưởng Bán Hàng Hay Nhất M...   \n",
       "140           Hạnh phúc                              Sức Mạnh Của Sự Tử Tế   \n",
       "698           Thiếu nhi                                     Chú Mèo Đi Hia   \n",
       "515           Ngôn tình                                  Phấn Hoa Lầu Xanh   \n",
       "\n",
       "    main_clustering_description  actual_duation  playlistID  avg_actual  \\\n",
       "767             Potential Users          1134.1          13   87.238462   \n",
       "371             Potential Users           325.6           4   81.400000   \n",
       "280             Potential Users          1768.9          22   80.404545   \n",
       "290             Potential Users          1005.8          14   71.842857   \n",
       "889             Potential Users          1416.5          21   67.452381   \n",
       "250             Potential Users           392.7           6   65.450000   \n",
       "571             Potential Users           313.1           5   62.620000   \n",
       "140             Potential Users           782.3          14   55.878571   \n",
       "698             Potential Users           440.1           8   55.012500   \n",
       "515             Potential Users           709.9          13   54.607692   \n",
       "\n",
       "     actual_duation_log  playlistID_log  avg_actual_log  \n",
       "767            7.033595        2.564957        4.468646  \n",
       "371            5.785670        1.386319        4.399377  \n",
       "280            7.478113        3.091047        4.387072  \n",
       "290            6.913539        2.639064        4.274483  \n",
       "889            7.255944        3.044527        4.211423  \n",
       "250            5.973046        1.791776        4.181288  \n",
       "571            5.746523        1.609458        4.137086  \n",
       "140            6.662238        2.639064        4.023183  \n",
       "698            6.087002        2.079454        4.007562  \n",
       "515            6.565124        2.564957        4.000177  "
      ]
     },
     "execution_count": 75,
     "metadata": {},
     "output_type": "execute_result"
    }
   ],
   "source": [
    "result = pd.concat([potentail_user_10,new_paid_user_10,loyal_user_10])\n",
    "result.head(10)"
   ]
  },
  {
   "cell_type": "markdown",
   "metadata": {},
   "source": [
    "## Content-Based Recommender"
   ]
  },
  {
   "cell_type": "code",
   "execution_count": 77,
   "metadata": {},
   "outputs": [],
   "source": [
    "from sklearn.feature_extraction.text import TfidfVectorizer"
   ]
  },
  {
   "cell_type": "markdown",
   "metadata": {},
   "source": [
    "### Processing data"
   ]
  },
  {
   "cell_type": "code",
   "execution_count": 93,
   "metadata": {},
   "outputs": [],
   "source": [
    "# Paid_type_user[Paid_type_user.main_clustering_description =='Potential Users']\\\n",
    "# .sort_values(by = 'listening_datetime', ascending = False).iloc[0:15000]\n",
    "playlist_name = Paid_type_user.playlist_name.drop_duplicates().reset_index()"
   ]
  },
  {
   "cell_type": "code",
   "execution_count": 94,
   "metadata": {},
   "outputs": [
    {
     "data": {
      "text/plain": [
       "(1127, 1573)"
      ]
     },
     "execution_count": 94,
     "metadata": {},
     "output_type": "execute_result"
    }
   ],
   "source": [
    "#Define a TF-IDF Vectorizer Object. Remove all english stop words such as 'the', 'a'\n",
    "tfidf = TfidfVectorizer()\n",
    "\n",
    "#Replace NaN with an empty string\n",
    "playlist_name.playlist_name= playlist_name.playlist_name.fillna('')\n",
    "\n",
    "#Construct the required TF-IDF matrix by fitting and transforming the data\n",
    "tfidf_matrix = tfidf.fit_transform(playlist_name.playlist_name)\n",
    "\n",
    "#Output the shape of tfidf_matrix\n",
    "tfidf_matrix.shape"
   ]
  },
  {
   "cell_type": "code",
   "execution_count": 95,
   "metadata": {},
   "outputs": [],
   "source": [
    "# Import linear_kernel\n",
    "from sklearn.metrics.pairwise import linear_kernel\n",
    "\n",
    "# Compute the cosine similarity matrix\n",
    "cosine_sim = linear_kernel(tfidf_matrix, tfidf_matrix)"
   ]
  },
  {
   "cell_type": "code",
   "execution_count": 98,
   "metadata": {},
   "outputs": [
    {
     "data": {
      "text/plain": [
       "array([0., 1., 0., ..., 0., 0., 0.])"
      ]
     },
     "execution_count": 98,
     "metadata": {},
     "output_type": "execute_result"
    }
   ],
   "source": [
    "cosine_sim[1]"
   ]
  },
  {
   "cell_type": "code",
   "execution_count": 100,
   "metadata": {},
   "outputs": [],
   "source": [
    "indices = pd.Series(playlist_name.index, index=playlist_name['playlist_name']).drop_duplicates()"
   ]
  },
  {
   "cell_type": "code",
   "execution_count": 101,
   "metadata": {},
   "outputs": [
    {
     "data": {
      "text/plain": [
       "playlist_name\n",
       "Cẩm nang CEO khởi nghiệp                       0\n",
       "[Sách Tóm Tắt] Chiến Lược Đại Dương Xanh       1\n",
       "Hành Trình Về Phương Đông                      2\n",
       "Vượt Khỏi Giới Hạn                             3\n",
       "Muôn Kiếp Nhân Sinh - Tập 1                    4\n",
       "                                            ... \n",
       "Kinh Địa Tạng Bồ Tát Bổn Nguyện             1122\n",
       "Hội Chợ Phù Hoa 3                           1123\n",
       "Lão Goriot                                  1124\n",
       "Vạn Kiếp Yêu Em - Tập 2                     1125\n",
       "Pháo Đài Số                                 1126\n",
       "Length: 1127, dtype: int64"
      ]
     },
     "execution_count": 101,
     "metadata": {},
     "output_type": "execute_result"
    }
   ],
   "source": [
    "indices"
   ]
  },
  {
   "cell_type": "code",
   "execution_count": 102,
   "metadata": {},
   "outputs": [],
   "source": [
    "def get_recommendations(title, cosine_sim=cosine_sim):\n",
    "    # Get the index of the movie that matches the title\n",
    "    idx = indices[title]\n",
    "\n",
    "    # Get the pairwsie similarity scores of all movies with that movie\n",
    "    sim_scores = list(enumerate(cosine_sim[idx]))\n",
    "\n",
    "    # Sort the movies based on the similarity scores\n",
    "    sim_scores = sorted(sim_scores, key=lambda x: x[1], reverse=True)\n",
    "\n",
    "    # Get the scores of the 10 most similar movies\n",
    "    sim_scores = sim_scores[1:11]\n",
    "\n",
    "    # Get the movie indices\n",
    "    book_indices = [i[0] for i in sim_scores]\n",
    "\n",
    "    # Return the top 10 most similar movies\n",
    "    return playlist_name['playlist_name'].iloc[book_indices]"
   ]
  },
  {
   "cell_type": "code",
   "execution_count": 107,
   "metadata": {},
   "outputs": [
    {
     "data": {
      "text/plain": [
       "207                                               Số Đỏ\n",
       "913                                       Chuyển Đổi Số\n",
       "31                                   Khách Hàng Là Số 1\n",
       "605                                    Trúng Số Độc Đắc\n",
       "511                           Bán Hàng Thời Kỹ Thuật Số\n",
       "914    [Sách Tóm Tắt] Những Người Làm Chủ Số 1 Việt Nam\n",
       "418                             10 Điều Tạo Nên Số Phận\n",
       "411                      ibosses – Thủ Lĩnh Số Thế Hệ Y\n",
       "826               Cải Tổ Doanh Nghiệp Trong Thời Đại Số\n",
       "771           Cha Voi - Dạy con nên người ở thời đại số\n",
       "Name: playlist_name, dtype: object"
      ]
     },
     "execution_count": 107,
     "metadata": {},
     "output_type": "execute_result"
    }
   ],
   "source": [
    "get_recommendations('Pháo Đài Số')"
   ]
  }
 ],
 "metadata": {
  "kernelspec": {
   "display_name": "Python 3",
   "language": "python",
   "name": "python3"
  },
  "language_info": {
   "codemirror_mode": {
    "name": "ipython",
    "version": 3
   },
   "file_extension": ".py",
   "mimetype": "text/x-python",
   "name": "python",
   "nbconvert_exporter": "python",
   "pygments_lexer": "ipython3",
   "version": "3.7.9"
  }
 },
 "nbformat": 4,
 "nbformat_minor": 4
}
